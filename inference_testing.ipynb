{
 "cells": [
  {
   "cell_type": "code",
   "execution_count": 9,
   "id": "58e86c98-8add-484d-96ec-702f0efc7182",
   "metadata": {},
   "outputs": [],
   "source": [
    "import os\n",
    "os.environ['TF_CPP_MIN_LOG_LEVEL'] = '3'  # or '2' to hide INFO messages as well\n",
    "\n",
    "# Optionally, set TensorFlow's own logger level to ERROR\n",
    "import tensorflow as tf\n",
    "tf.get_logger().setLevel('ERROR')\n",
    "\n",
    "# For Transformers, reduce its verbosity:\n",
    "from transformers import logging as hf_logging\n",
    "hf_logging.set_verbosity_error()\n",
    "\n",
    "# Optionally, ignore Python warnings\n",
    "import warnings\n",
    "warnings.filterwarnings('ignore')\n"
   ]
  },
  {
   "cell_type": "code",
   "execution_count": 10,
   "id": "b6bde6f7-830e-4d8f-a13e-9a1da9398cc2",
   "metadata": {},
   "outputs": [],
   "source": [
    "import tensorflow as tf\n",
    "from transformers import AutoTokenizer"
   ]
  },
  {
   "cell_type": "code",
   "execution_count": 11,
   "id": "f260542e-5691-47f5-8f4c-f80a5d5918ad",
   "metadata": {},
   "outputs": [],
   "source": [
    "model_loc = \"saved_model/xlm-r_88acc_best_model_v2\"\n",
    "# model_loc = \"saved_model/xmlr-stff-best_fix_v2\"\n",
    "\n",
    "model_name = \"xlm-roberta-base\"\n"
   ]
  },
  {
   "cell_type": "code",
   "execution_count": 26,
   "id": "a30e0b19-11f1-404a-ab97-be36e021668b",
   "metadata": {},
   "outputs": [],
   "source": [
    "input1 = \"hahaha kidding aside, I think  give chance to others na, especially sa mga aspiring leaders natin here ðŸ˜‰. Why not itry niyo rin promise enjoy yan âœ¨ we, mga kuyas and ates will follow the lead\"\n",
    "input2 = \"Shopee 80% OFF! Order now: shopee-80store.com. Last day na!\"\n",
    "input3 = \"Di ako pwede lumabas ngayon may ginagawa pa ako baka next time na lang\"\n",
    "input4 = \"PLDT detected multiple login attempts sa ibang bansa! Secure account now! pldt-fix.ml\"\n",
    "input5 = \"Hungry for discounts? As a new Smart subscriber, we have an exclusive foodpanda voucher just for you!1. Open the foodpanda app now: https://prf.hn/l/MbnvkdO2. Enter this code upon checkout: SPPXFPNEW Voucher is valid until January 31, 2025 only! DTI209357\"\n",
    "input_text = input5\n"
   ]
  },
  {
   "cell_type": "code",
   "execution_count": 27,
   "id": "b32e6ac9-d038-4c79-95c1-e28290b539ec",
   "metadata": {},
   "outputs": [
    {
     "name": "stdout",
     "output_type": "stream",
     "text": [
      "Message: Hungry for discounts? As a new Smart subscriber, we have an exclusive foodpanda voucher just for you!1. Open the foodpanda app now: https://prf.hn/l/MbnvkdO2. Enter this code upon checkout: SPPXFPNEW Voucher is valid until January 31, 2025 only! DTI209357\n",
      "The message is classified as: SCAM\n"
     ]
    }
   ],
   "source": [
    "# tokenizer = AutoTokenizer.from_pretrained(model_name)\n",
    "tokenizer = AutoTokenizer.from_pretrained(\"saved_tokenizer/\" + \"for_xmlr-pd-best_fix_v1\")\n",
    "\n",
    "# Tokenize the input text\n",
    "encoded_inputs = tokenizer(input_text, return_tensors=\"tf\", padding=True, truncation=True)\n",
    "\n",
    "# dummy token_type_ids for tokenizing\n",
    "dummy_token_type_ids = tf.zeros_like(encoded_inputs[\"input_ids\"])\n",
    "\n",
    "# Prepare the input dictionary\n",
    "inputs = {\n",
    "    \"input_ids\": encoded_inputs[\"input_ids\"],\n",
    "    \"attention_mask\": encoded_inputs[\"attention_mask\"],\n",
    "    \"token_type_ids\": dummy_token_type_ids,\n",
    "}\n",
    "\n",
    "# Load the SavedModel\n",
    "loaded_model = tf.saved_model.load(model_loc)\n",
    "infer = loaded_model.signatures[\"serving_default\"]\n",
    "\n",
    "# Run inference\n",
    "outputs = infer(**inputs)\n",
    "\n",
    "# Extract logits\n",
    "logits = outputs[\"logits\"]\n",
    "\n",
    "# Apply softmax to get probabilities\n",
    "probabilities = tf.nn.softmax(logits)\n",
    "\n",
    "# Get the predicted class index\n",
    "predicted_class_index = tf.argmax(probabilities, axis=1).numpy()[0]\n",
    "\n",
    "# Map class index to label\n",
    "class_labels = {0: \"HAM\", 1: \"SCAM\"}\n",
    "predicted_label = class_labels[predicted_class_index]\n",
    "\n",
    "# Output the result\n",
    "print(\"Message: \" + input_text)\n",
    "print(f\"The message is classified as: {predicted_label}\")"
   ]
  },
  {
   "cell_type": "code",
   "execution_count": 28,
   "id": "efe2ee3f-29b9-4351-a290-a6dca4d1a29f",
   "metadata": {},
   "outputs": [
    {
     "data": {
      "text/plain": [
       "<tf.Tensor: shape=(1, 2), dtype=float32, numpy=array([[0.07003368, 0.92996633]], dtype=float32)>"
      ]
     },
     "execution_count": 28,
     "metadata": {},
     "output_type": "execute_result"
    }
   ],
   "source": [
    "probabilities"
   ]
  },
  {
   "cell_type": "code",
   "execution_count": null,
   "id": "2231653a-ce60-49e5-8071-fba5f1917cdf",
   "metadata": {},
   "outputs": [],
   "source": []
  }
 ],
 "metadata": {
  "kernelspec": {
   "display_name": "Python 3 (ipykernel)",
   "language": "python",
   "name": "python3"
  },
  "language_info": {
   "codemirror_mode": {
    "name": "ipython",
    "version": 3
   },
   "file_extension": ".py",
   "mimetype": "text/x-python",
   "name": "python",
   "nbconvert_exporter": "python",
   "pygments_lexer": "ipython3",
   "version": "3.10.16"
  }
 },
 "nbformat": 4,
 "nbformat_minor": 5
}
