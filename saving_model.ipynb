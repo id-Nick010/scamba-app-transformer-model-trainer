{
 "cells": [
  {
   "cell_type": "markdown",
   "id": "0035fa2b-08e0-4bda-b8d1-900f7bd636d9",
   "metadata": {},
   "source": [
    "# Model Saving (Checkpoint.h5 > [TFModel, Token] > TFLite)"
   ]
  },
  {
   "cell_type": "markdown",
   "id": "d75b0221-74cb-4d35-8dd9-b8d26a680f96",
   "metadata": {},
   "source": [
    "### Model Name Config"
   ]
  },
  {
   "cell_type": "code",
   "execution_count": null,
   "id": "1738936d",
   "metadata": {},
   "outputs": [],
   "source": [
    "#format: save_type-train_grp_num-model_name-acc-hp_hp_hp-ver"
   ]
  },
  {
   "cell_type": "code",
   "execution_count": 1,
   "id": "fd183fc4-b16b-412f-836a-13e224f99a6d",
   "metadata": {},
   "outputs": [],
   "source": [
    "load_checkpoint_name = \"XLM-RoBERTa__lr5e-05_ep150_bs128.h5\""
   ]
  },
  {
   "cell_type": "code",
   "execution_count": 2,
   "id": "85442eb1-bd56-40f7-89db-3bba711906d6",
   "metadata": {},
   "outputs": [],
   "source": [
    "MODEL_NAME = 'xlm-roberta-base'\n",
    "saved_model_name = \"first-xlm-r_94acc_lr5e-05_ep150_bs128_v3\""
   ]
  },
  {
   "cell_type": "code",
   "execution_count": null,
   "id": "444e62b6-2953-4d1e-9878-d4437815098d",
   "metadata": {},
   "outputs": [],
   "source": [
    "MODEL_NAME = 'bert-base-multilingual-cased'\n",
    "saved_model_name = \"mbert_80pacc_try_model_v1\""
   ]
  },
  {
   "cell_type": "code",
   "execution_count": null,
   "id": "0d76d374-e82a-4950-9538-a29db442ad58",
   "metadata": {},
   "outputs": [],
   "source": [
    "MODEL_NAME = 'bert-base-uncased'\n",
    "saved_model_name = \"bert-base_best_model_v1\""
   ]
  },
  {
   "cell_type": "markdown",
   "id": "5b453d2e-66b8-43e8-bf5c-de0762d02456",
   "metadata": {},
   "source": [
    "### Load Model"
   ]
  },
  {
   "cell_type": "code",
   "execution_count": 3,
   "id": "b930b8fb-715b-4c94-8976-5d1562d0001f",
   "metadata": {},
   "outputs": [
    {
     "name": "stderr",
     "output_type": "stream",
     "text": [
      "2025-04-20 01:05:30.515333: I tensorflow/core/util/port.cc:113] oneDNN custom operations are on. You may see slightly different numerical results due to floating-point round-off errors from different computation orders. To turn them off, set the environment variable `TF_ENABLE_ONEDNN_OPTS=0`.\n",
      "2025-04-20 01:05:30.899111: E external/local_xla/xla/stream_executor/cuda/cuda_dnn.cc:9261] Unable to register cuDNN factory: Attempting to register factory for plugin cuDNN when one has already been registered\n",
      "2025-04-20 01:05:30.899202: E external/local_xla/xla/stream_executor/cuda/cuda_fft.cc:607] Unable to register cuFFT factory: Attempting to register factory for plugin cuFFT when one has already been registered\n",
      "2025-04-20 01:05:30.974971: E external/local_xla/xla/stream_executor/cuda/cuda_blas.cc:1515] Unable to register cuBLAS factory: Attempting to register factory for plugin cuBLAS when one has already been registered\n",
      "2025-04-20 01:05:31.105802: I tensorflow/core/platform/cpu_feature_guard.cc:182] This TensorFlow binary is optimized to use available CPU instructions in performance-critical operations.\n",
      "To enable the following instructions: AVX2 AVX_VNNI FMA, in other operations, rebuild TensorFlow with the appropriate compiler flags.\n",
      "2025-04-20 01:05:32.605099: W tensorflow/compiler/tf2tensorrt/utils/py_utils.cc:38] TF-TRT Warning: Could not find TensorRT\n",
      "2025-04-20 01:05:38.796995: I external/local_xla/xla/stream_executor/cuda/cuda_executor.cc:887] could not open file to read NUMA node: /sys/bus/pci/devices/0000:01:00.0/numa_node\n",
      "Your kernel may have been built without NUMA support.\n",
      "2025-04-20 01:05:38.999720: I external/local_xla/xla/stream_executor/cuda/cuda_executor.cc:887] could not open file to read NUMA node: /sys/bus/pci/devices/0000:01:00.0/numa_node\n",
      "Your kernel may have been built without NUMA support.\n",
      "2025-04-20 01:05:38.999874: I external/local_xla/xla/stream_executor/cuda/cuda_executor.cc:887] could not open file to read NUMA node: /sys/bus/pci/devices/0000:01:00.0/numa_node\n",
      "Your kernel may have been built without NUMA support.\n",
      "2025-04-20 01:05:39.004875: I external/local_xla/xla/stream_executor/cuda/cuda_executor.cc:887] could not open file to read NUMA node: /sys/bus/pci/devices/0000:01:00.0/numa_node\n",
      "Your kernel may have been built without NUMA support.\n",
      "2025-04-20 01:05:39.004978: I external/local_xla/xla/stream_executor/cuda/cuda_executor.cc:887] could not open file to read NUMA node: /sys/bus/pci/devices/0000:01:00.0/numa_node\n",
      "Your kernel may have been built without NUMA support.\n",
      "2025-04-20 01:05:39.005010: I external/local_xla/xla/stream_executor/cuda/cuda_executor.cc:887] could not open file to read NUMA node: /sys/bus/pci/devices/0000:01:00.0/numa_node\n",
      "Your kernel may have been built without NUMA support.\n",
      "2025-04-20 01:05:39.299657: I external/local_xla/xla/stream_executor/cuda/cuda_executor.cc:887] could not open file to read NUMA node: /sys/bus/pci/devices/0000:01:00.0/numa_node\n",
      "Your kernel may have been built without NUMA support.\n",
      "2025-04-20 01:05:39.299765: I external/local_xla/xla/stream_executor/cuda/cuda_executor.cc:887] could not open file to read NUMA node: /sys/bus/pci/devices/0000:01:00.0/numa_node\n",
      "Your kernel may have been built without NUMA support.\n",
      "2025-04-20 01:05:39.299772: I tensorflow/core/common_runtime/gpu/gpu_device.cc:2022] Could not identify NUMA node of platform GPU id 0, defaulting to 0.  Your kernel may not have been built with NUMA support.\n",
      "2025-04-20 01:05:39.299789: I tensorflow/core/common_runtime/gpu/gpu_process_state.cc:236] Using CUDA malloc Async allocator for GPU: 0\n",
      "2025-04-20 01:05:39.300523: I external/local_xla/xla/stream_executor/cuda/cuda_executor.cc:887] could not open file to read NUMA node: /sys/bus/pci/devices/0000:01:00.0/numa_node\n",
      "Your kernel may have been built without NUMA support.\n",
      "2025-04-20 01:05:39.300590: I tensorflow/core/common_runtime/gpu/gpu_device.cc:1929] Created device /job:localhost/replica:0/task:0/device:GPU:0 with 1753 MB memory:  -> device: 0, name: NVIDIA GeForce RTX 3050 Ti Laptop GPU, pci bus id: 0000:01:00.0, compute capability: 8.6\n",
      "All PyTorch model weights were used when initializing TFXLMRobertaForSequenceClassification.\n",
      "\n",
      "Some weights or buffers of the TF 2.0 model TFXLMRobertaForSequenceClassification were not initialized from the PyTorch model and are newly initialized: ['classifier.dense.weight', 'classifier.dense.bias', 'classifier.out_proj.weight', 'classifier.out_proj.bias']\n",
      "You should probably TRAIN this model on a down-stream task to be able to use it for predictions and inference.\n"
     ]
    }
   ],
   "source": [
    "import tensorflow as tf\n",
    "from transformers import AutoTokenizer, TFAutoModelForSequenceClassification\n",
    "\n",
    "model = TFAutoModelForSequenceClassification.from_pretrained(\n",
    "    MODEL_NAME,\n",
    "    num_labels=2\n",
    ")\n",
    "\n",
    "model.load_weights('checkpoints/' + load_checkpoint_name)\n"
   ]
  },
  {
   "cell_type": "markdown",
   "id": "617334e2-9963-41bd-ba25-380418749391",
   "metadata": {},
   "source": [
    "### Save Model Type"
   ]
  },
  {
   "cell_type": "code",
   "execution_count": null,
   "id": "ab5da32e-1f1f-49f7-abd5-3d59abe685c1",
   "metadata": {},
   "outputs": [],
   "source": [
    "# Hugging Face Transformer Format\n",
    "model.save_pretrained(\"saved_model/\"+saved_model_name, save_format=\"tf\")"
   ]
  },
  {
   "cell_type": "code",
   "execution_count": null,
   "id": "ab0b22e5-51f8-4e10-9a39-d948c4c61e56",
   "metadata": {},
   "outputs": [],
   "source": [
    "# # Keras Format\n",
    "model.save(\"saved_model/\"+saved_model_name)"
   ]
  },
  {
   "cell_type": "markdown",
   "id": "9dca0f4d-e144-429f-938c-9d007bb65013",
   "metadata": {},
   "source": [
    "#### This type below is working"
   ]
  },
  {
   "cell_type": "code",
   "execution_count": 4,
   "id": "c57e2538-88bb-4a35-9853-5d2eb94c3ef5",
   "metadata": {},
   "outputs": [
    {
     "name": "stdout",
     "output_type": "stream",
     "text": [
      "INFO:tensorflow:Assets written to: saved_model/first-xlm-r_94acc_lr5e-05_ep150_bs128_v3/assets\n"
     ]
    },
    {
     "name": "stderr",
     "output_type": "stream",
     "text": [
      "INFO:tensorflow:Assets written to: saved_model/first-xlm-r_94acc_lr5e-05_ep150_bs128_v3/assets\n"
     ]
    }
   ],
   "source": [
    "# Standard Tensorflow Format\n",
    "import tensorflow as tf\n",
    "tf.saved_model.save(model, \"saved_model/\"+saved_model_name)"
   ]
  },
  {
   "cell_type": "markdown",
   "id": "b5110134-6ce6-459a-a30f-1c6fbe979fc5",
   "metadata": {},
   "source": [
    "# Tokenizer Saving"
   ]
  },
  {
   "cell_type": "code",
   "execution_count": 5,
   "id": "b66bdb18-33bc-43e3-a268-3d4b57004aa0",
   "metadata": {},
   "outputs": [],
   "source": [
    "tokenizer_name = \"xlm-roberta-base\"\n",
    "# tokenizer_saved_name = \"tkn_for_\" + \"xmlr-_fix_v1\"\n",
    "tokenizer_saved_name = \"tkn_for_\" + saved_model_name"
   ]
  },
  {
   "cell_type": "code",
   "execution_count": 6,
   "id": "77bca9eb-0806-4e64-9414-12409b858c62",
   "metadata": {},
   "outputs": [
    {
     "data": {
      "text/plain": [
       "('saved_tokenizer/tkn_for_first-xlm-r_94acc_lr5e-05_ep150_bs128_v3/tokenizer_config.json',\n",
       " 'saved_tokenizer/tkn_for_first-xlm-r_94acc_lr5e-05_ep150_bs128_v3/special_tokens_map.json',\n",
       " 'saved_tokenizer/tkn_for_first-xlm-r_94acc_lr5e-05_ep150_bs128_v3/sentencepiece.bpe.model',\n",
       " 'saved_tokenizer/tkn_for_first-xlm-r_94acc_lr5e-05_ep150_bs128_v3/added_tokens.json',\n",
       " 'saved_tokenizer/tkn_for_first-xlm-r_94acc_lr5e-05_ep150_bs128_v3/tokenizer.json')"
      ]
     },
     "execution_count": 6,
     "metadata": {},
     "output_type": "execute_result"
    }
   ],
   "source": [
    "from transformers import AutoTokenizer\n",
    "\n",
    "# Assume you already have a tokenizer (for instance, fine-tuned or pretrained)\n",
    "tokenizer = AutoTokenizer.from_pretrained(tokenizer_name)\n",
    "\n",
    "# Save the tokenizer to a local directory\n",
    "tokenizer.save_pretrained(\"saved_tokenizer/\" + tokenizer_saved_name)"
   ]
  },
  {
   "cell_type": "markdown",
   "id": "f4e94e0f",
   "metadata": {},
   "source": [
    "# TF Model to TFLite Conversion"
   ]
  },
  {
   "cell_type": "code",
   "execution_count": 7,
   "id": "1d8aa2bd",
   "metadata": {},
   "outputs": [],
   "source": [
    "import tensorflow as tf"
   ]
  },
  {
   "cell_type": "code",
   "execution_count": 8,
   "id": "ce4ceea2",
   "metadata": {},
   "outputs": [],
   "source": [
    "# model_input_name = \"new_model_xmlr-pd-best\"\n",
    "model_input_name = saved_model_name"
   ]
  },
  {
   "cell_type": "code",
   "execution_count": 9,
   "id": "ad24d000",
   "metadata": {},
   "outputs": [
    {
     "name": "stderr",
     "output_type": "stream",
     "text": [
      "2025-04-20 01:08:53.555439: W tensorflow/compiler/mlir/lite/python/tf_tfl_flatbuffer_helpers.cc:378] Ignored output_format.\n",
      "2025-04-20 01:08:53.555522: W tensorflow/compiler/mlir/lite/python/tf_tfl_flatbuffer_helpers.cc:381] Ignored drop_control_dependency.\n",
      "2025-04-20 01:08:53.561208: I tensorflow/cc/saved_model/reader.cc:83] Reading SavedModel from: saved_model/first-xlm-r_94acc_lr5e-05_ep150_bs128_v3\n",
      "2025-04-20 01:08:53.590751: I tensorflow/cc/saved_model/reader.cc:51] Reading meta graph with tags { serve }\n",
      "2025-04-20 01:08:53.590850: I tensorflow/cc/saved_model/reader.cc:146] Reading SavedModel debug info (if present) from: saved_model/first-xlm-r_94acc_lr5e-05_ep150_bs128_v3\n",
      "2025-04-20 01:08:53.670853: I tensorflow/compiler/mlir/mlir_graph_optimization_pass.cc:388] MLIR V1 optimization pass is not enabled\n",
      "2025-04-20 01:08:53.687946: I tensorflow/cc/saved_model/loader.cc:233] Restoring SavedModel bundle.\n",
      "2025-04-20 01:08:55.079354: I tensorflow/cc/saved_model/loader.cc:217] Running initialization op on SavedModel bundle at path: saved_model/first-xlm-r_94acc_lr5e-05_ep150_bs128_v3\n",
      "2025-04-20 01:08:55.266602: I tensorflow/cc/saved_model/loader.cc:316] SavedModel load for tags { serve }; Status: success: OK. Took 1705400 microseconds.\n",
      "2025-04-20 01:08:55.524182: I tensorflow/compiler/mlir/tensorflow/utils/dump_mlir_util.cc:269] disabling MLIR crash reproducer, set env var `MLIR_CRASH_REPRODUCER_DIRECTORY` to enable.\n",
      "Summary on the non-converted ops:\n",
      "---------------------------------\n",
      " * Accepted dialects: tfl, builtin, func\n",
      " * Non-Converted Ops: 145, Total Ops 1339, % non-converted = 10.83 %\n",
      " * 145 ARITH ops\n",
      "\n",
      "- arith.constant:  145 occurrences  (f32: 130, i32: 15)\n",
      "\n",
      "\n",
      "\n",
      "  (f32: 172, i32: 1)\n",
      "  (f32: 24)\n",
      "  (f32: 1, i32: 1)\n",
      "  (i32: 48)\n",
      "  (i32: 1)\n",
      "  (f32: 2)\n",
      "  (f32: 74)\n",
      "  (uq_8: 2, f32: 1, i32: 96)\n",
      "  (f32: 12)\n",
      "  (f32: 50)\n",
      "  (f32: 88, i32: 1)\n",
      "\n",
      "  (i1: 1)\n",
      "  (i32: 73)\n",
      "  (uq_8: 76)\n",
      "  (i32: 96)\n",
      "  (f32: 168, i32: 1)\n",
      "  (f32: 25)\n",
      "  (i32: 49)\n",
      "  (f32: 12)\n",
      "  (f32: 25)\n",
      "  (f32: 1, i32: 14)\n",
      "  (f32: 26)\n",
      "  (f32: 1)\n",
      "  (f32: 48)\n"
     ]
    }
   ],
   "source": [
    "# Convert to TFLite\n",
    "converter = tf.lite.TFLiteConverter.from_saved_model('saved_model/' + model_input_name)\n",
    "converter.optimizations = [tf.lite.Optimize.DEFAULT]\n",
    "converter._experimental_preserve_all_tensors = True\n",
    "converter.target_spec.supported_ops = [\n",
    "    tf.lite.OpsSet.TFLITE_BUILTINS,\n",
    "    tf.lite.OpsSet.SELECT_TF_OPS\n",
    "]\n",
    "tflite_model = converter.convert()"
   ]
  },
  {
   "cell_type": "code",
   "execution_count": 12,
   "id": "78130842",
   "metadata": {},
   "outputs": [
    {
     "name": "stdout",
     "output_type": "stream",
     "text": [
      "✅ Model converted and saved as lite_scamba_first-xlm-r_94acc_lr5e-05_ep150_bs128_v3.tflite\n"
     ]
    }
   ],
   "source": [
    "with open(\"tflite_models/\" + \"lite_scamba_\" + model_input_name + \".tflite\", \"wb\") as f:\n",
    "    f.write(tflite_model)\n",
    "\n",
    "print(\"✅ Model converted and saved as \" + \"lite_scamba_\" + model_input_name + \".tflite\")"
   ]
  },
  {
   "cell_type": "code",
   "execution_count": null,
   "id": "16ec52d5-5067-407b-acfc-7af81fb9cb97",
   "metadata": {},
   "outputs": [],
   "source": []
  }
 ],
 "metadata": {
  "kernelspec": {
   "display_name": "Python 3 (ipykernel)",
   "language": "python",
   "name": "python3"
  },
  "language_info": {
   "codemirror_mode": {
    "name": "ipython",
    "version": 3
   },
   "file_extension": ".py",
   "mimetype": "text/x-python",
   "name": "python",
   "nbconvert_exporter": "python",
   "pygments_lexer": "ipython3",
   "version": "3.10.16"
  }
 },
 "nbformat": 4,
 "nbformat_minor": 5
}
