{
 "cells": [
  {
   "cell_type": "markdown",
   "id": "2e5b07c7-04b6-4f0e-8578-79e8a03f7a77",
   "metadata": {},
   "source": [
    "# Tokenization Testing"
   ]
  },
  {
   "cell_type": "code",
   "execution_count": null,
   "id": "915c7ae5-affb-484a-b9c8-0c7a9886af48",
   "metadata": {},
   "outputs": [],
   "source": [
    "from transformers import AutoTokenizer, TFAutoModelForSequenceClassification\n",
    "import tensorflow as tf"
   ]
  },
  {
   "cell_type": "code",
   "execution_count": null,
   "id": "43f3846d-5296-4946-9dd1-3a998b80de0e",
   "metadata": {},
   "outputs": [],
   "source": [
    "# Model Names: \n",
    "# 'bert-base-uncased' (bert)\n",
    "# 'bert-base-multilingual-cased' (mBERT)\n",
    "# 'xlm-roberta-base' or \"distilroberta-base\" (XLM-RoBERTa, Distil Roberta)\n",
    "# \"google-bert/bert-base-cased\" (mobileBert)\n",
    "\n",
    "MODEL_NAME = 'xlm-roberta-base'"
   ]
  },
  {
   "cell_type": "code",
   "execution_count": null,
   "id": "1093bdc0-3cce-4bf6-8f75-612366afeb08",
   "metadata": {},
   "outputs": [],
   "source": [
    "texts = \"Hello my Dying World im tired\""
   ]
  },
  {
   "cell_type": "code",
   "execution_count": null,
   "id": "db91d283-7055-4608-9f69-673ca0309c80",
   "metadata": {},
   "outputs": [],
   "source": [
    "# Model initialization\n",
    "model = TFAutoModelForSequenceClassification.from_pretrained(\n",
    "    MODEL_NAME,\n",
    "    num_labels=2,\n",
    "    # hidden_dropout_prob=0.3,\n",
    "    # attention_probs_dropout_prob=0.15\n",
    ")"
   ]
  },
  {
   "cell_type": "code",
   "execution_count": null,
   "id": "dcbabc52-5cae-4e76-8022-528faf361a6b",
   "metadata": {},
   "outputs": [],
   "source": [
    "tokenizer = AutoTokenizer.from_pretrained(MODEL_NAME)\n",
    "\n",
    "# Tokenization function\n",
    "def tokenize_data(texts, tokenizer):\n",
    "    return tokenizer.batch_encode_plus(\n",
    "        texts,\n",
    "        max_length=MAX_LENGTH,\n",
    "        padding='max_length',\n",
    "        truncation=True,\n",
    "        return_tensors='tf'\n",
    "    )"
   ]
  },
  {
   "cell_type": "markdown",
   "id": "8f3e07a4-87d2-4576-8054-98c4e3df8f24",
   "metadata": {},
   "source": [
    "## Loading Dataset"
   ]
  },
  {
   "cell_type": "code",
   "execution_count": null,
   "id": "eabda58d-85e2-4fb7-a3d1-fb68454e6070",
   "metadata": {},
   "outputs": [],
   "source": [
    "from sklearn.model_selection import train_test_split\n",
    "import pandas as pd"
   ]
  },
  {
   "cell_type": "code",
   "execution_count": null,
   "id": "3ccaf369-f9ba-4a20-a37d-093f725ff9e4",
   "metadata": {},
   "outputs": [],
   "source": [
    "randnum = 45#42"
   ]
  },
  {
   "cell_type": "code",
   "execution_count": null,
   "id": "4c919d08-9119-4880-a860-24770386d7ea",
   "metadata": {},
   "outputs": [],
   "source": [
    "file_path = 'dataset/finaldataset_6k_shuffled_v2.csv'"
   ]
  },
  {
   "cell_type": "code",
   "execution_count": null,
   "id": "912dbac8-ac82-49cc-a71a-bf97d8fea3c2",
   "metadata": {},
   "outputs": [],
   "source": [
    "def load_data(file_path):\n",
    "    df = pd.read_csv(file_path)\n",
    "    df = df[['text', 'label']].dropna()\n",
    "    df['label'] = df['label'].astype(int)\n",
    "    return df"
   ]
  },
  {
   "cell_type": "code",
   "execution_count": null,
   "id": "051e5df0-26d2-474d-a079-6b7adcc105d6",
   "metadata": {},
   "outputs": [],
   "source": [
    "df = load_data(file_path)\n",
    "train_df, test_df = train_test_split(df, test_size=0.1, random_state=randnum)\n",
    "train_df, val_df = train_test_split(train_df, test_size=0.2, random_state=randnum)\n"
   ]
  },
  {
   "cell_type": "code",
   "execution_count": null,
   "id": "56cc0963-d0ea-445d-ab3f-16001dd730d4",
   "metadata": {},
   "outputs": [],
   "source": [
    "val_df, test_df"
   ]
  },
  {
   "cell_type": "code",
   "execution_count": null,
   "id": "d8dbc95e-be03-483e-9c90-490d62eb5ef5",
   "metadata": {},
   "outputs": [],
   "source": [
    "train_encodings = tokenize_data(train_df['text'].tolist(), tokenizer)\n",
    "val_encodings = tokenize_data(val_df['text'].tolist(), tokenizer)\n",
    "test_encodings = tokenize_data(test_df['text'].tolist(), tokenizer)"
   ]
  },
  {
   "cell_type": "markdown",
   "id": "4b404d2c-c774-4c30-bd6a-1bd609501ce0",
   "metadata": {},
   "source": [
    "### Testing Tokenizer Values"
   ]
  },
  {
   "cell_type": "code",
   "execution_count": 1,
   "id": "c2269633-8bda-4572-b3b7-b615d3525b01",
   "metadata": {},
   "outputs": [],
   "source": [
    "# Model Names: \n",
    "# 'bert-base-uncased' (bert)\n",
    "# 'bert-base-multilingual-cased' (mBERT)\n",
    "# 'xlm-roberta-base' or \"distilroberta-base\" (XLM-RoBERTa, Distil Roberta)\n",
    "# \"google-bert/bert-base-cased\" (mobileBert)\n",
    "\n",
    "MODEL_NAME = 'xlm-roberta-base'"
   ]
  },
  {
   "cell_type": "code",
   "execution_count": 2,
   "id": "272489bf-d89f-45fc-9c0a-b9a87e6c5437",
   "metadata": {},
   "outputs": [],
   "source": [
    "text = \"Magtaya nang may saya! Libreng P288 at 100% deposit bonus! Sumali na sa: clickhere.cx/pNTVzioGpzxS2BV at magsimula ng pagwawagi!\""
   ]
  },
  {
   "cell_type": "code",
   "execution_count": 32,
   "id": "1fe17488-7f05-41c5-be8b-88538de90462",
   "metadata": {},
   "outputs": [],
   "source": [
    "MAX_LENGTH = 150"
   ]
  },
  {
   "cell_type": "code",
   "execution_count": 33,
   "id": "db08daed-8b5f-4116-b29f-70499865554c",
   "metadata": {},
   "outputs": [],
   "source": [
    "from transformers import AutoTokenizer, TFAutoModelForSequenceClassification\n",
    "\n",
    "tokenizer = AutoTokenizer.from_pretrained(MODEL_NAME)\n",
    "# model = TFAutoModelForSequenceClassification.from_pretrained(\n",
    "#     MODEL_NAME,\n",
    "#     num_labels=2,\n",
    "#     # hidden_dropout_prob=0.3,\n",
    "#     # attention_probs_dropout_prob=0.15\n",
    "# )"
   ]
  },
  {
   "cell_type": "code",
   "execution_count": 34,
   "id": "3c5ea62a-2d62-4e61-821b-84d6a620c5aa",
   "metadata": {},
   "outputs": [],
   "source": [
    "# prepare input\n",
    "encoded_input = tokenizer(\n",
    "    text, \n",
    "    max_length=MAX_LENGTH,\n",
    "    truncation=True,\n",
    "    return_tensors='tf'\n",
    ")\n",
    "\n",
    "# forward pass\n",
    "# output = model(**encoded_input)\n",
    "\n",
    "# print(encoded_input)"
   ]
  },
  {
   "cell_type": "code",
   "execution_count": 35,
   "id": "126604ed-d3ae-42c7-bc49-4623d9254073",
   "metadata": {},
   "outputs": [
    {
     "name": "stdout",
     "output_type": "stream",
     "text": [
      "Number of tokens: 48\n"
     ]
    }
   ],
   "source": [
    "num_tokens = encoded_input[\"input_ids\"].shape[1]\n",
    "print(f\"Number of tokens: {num_tokens}\")"
   ]
  },
  {
   "cell_type": "code",
   "execution_count": 36,
   "id": "4430990a-7b01-49f5-93b9-8a1449863548",
   "metadata": {},
   "outputs": [
    {
     "name": "stdout",
     "output_type": "stream",
     "text": [
      "--- tokenized text object value:\n",
      "{'input_ids': <tf.Tensor: shape=(1, 48), dtype=int32, numpy=\n",
      "array([[     0,   5695,    102,    395,   8043,   1543,   1216,     38,\n",
      "         88161,    449,    436, 103064,     99,   3555,  40370,   9396,\n",
      "            38,  74663,    150,     24,     57,     12,  18158,  35593,\n",
      "             5,    238,    425,     64,    254,    839,   5343,   6162,\n",
      "           724,    254,    169,    425,    294,    304,  77394,     99,\n",
      "          1697, 137003,    234,   2070, 105761,    735,     38,      2]],\n",
      "      dtype=int32)>, 'attention_mask': <tf.Tensor: shape=(1, 48), dtype=int32, numpy=\n",
      "array([[1, 1, 1, 1, 1, 1, 1, 1, 1, 1, 1, 1, 1, 1, 1, 1, 1, 1, 1, 1, 1, 1,\n",
      "        1, 1, 1, 1, 1, 1, 1, 1, 1, 1, 1, 1, 1, 1, 1, 1, 1, 1, 1, 1, 1, 1,\n",
      "        1, 1, 1, 1]], dtype=int32)>}\n",
      "\n",
      "\n",
      "--- decoded text from tokenized data:\n",
      "Magtaya nang may saya! Libreng P288 at 100% deposit bonus! Sumali na sa: clickhere.cx/pNTVzioGpzxS2BV at magsimula ng pagwawagi!\n",
      "--- real text:\n",
      "Magtaya nang may saya! Libreng P288 at 100% deposit bonus! Sumali na sa: clickhere.cx/pNTVzioGpzxS2BV at magsimula ng pagwawagi!\n"
     ]
    }
   ],
   "source": [
    "decoded_text = tokenizer.decode(encoded_input[\"input_ids\"].numpy()[0], skip_special_tokens=True)\n",
    "print(\"--- tokenized text object value:\")\n",
    "print(encoded_input)\n",
    "print(\"\\n\")\n",
    "print(\"--- decoded text from tokenized data:\") \n",
    "print(decoded_text)\n",
    "print(\"--- real text:\")\n",
    "print(text)"
   ]
  },
  {
   "cell_type": "code",
   "execution_count": null,
   "id": "308df445-5890-4d25-beca-96cc46734489",
   "metadata": {},
   "outputs": [],
   "source": []
  }
 ],
 "metadata": {
  "kernelspec": {
   "display_name": "Python 3 (ipykernel)",
   "language": "python",
   "name": "python3"
  },
  "language_info": {
   "codemirror_mode": {
    "name": "ipython",
    "version": 3
   },
   "file_extension": ".py",
   "mimetype": "text/x-python",
   "name": "python",
   "nbconvert_exporter": "python",
   "pygments_lexer": "ipython3",
   "version": "3.10.16"
  }
 },
 "nbformat": 4,
 "nbformat_minor": 5
}
