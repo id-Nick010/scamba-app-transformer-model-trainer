{
 "cells": [
  {
   "cell_type": "code",
   "execution_count": 1,
   "id": "d1f1137a-ba36-4837-a783-50a123b5d361",
   "metadata": {},
   "outputs": [],
   "source": [
    "### Testing Model to Unseen Data"
   ]
  },
  {
   "cell_type": "code",
   "execution_count": 2,
   "id": "04d411d8-796d-4c77-9a54-6099f37303fc",
   "metadata": {},
   "outputs": [
    {
     "name": "stderr",
     "output_type": "stream",
     "text": [
      "2025-04-19 19:08:59.297566: I tensorflow/core/util/port.cc:113] oneDNN custom operations are on. You may see slightly different numerical results due to floating-point round-off errors from different computation orders. To turn them off, set the environment variable `TF_ENABLE_ONEDNN_OPTS=0`.\n",
      "2025-04-19 19:08:59.368356: E external/local_xla/xla/stream_executor/cuda/cuda_dnn.cc:9261] Unable to register cuDNN factory: Attempting to register factory for plugin cuDNN when one has already been registered\n",
      "2025-04-19 19:08:59.368390: E external/local_xla/xla/stream_executor/cuda/cuda_fft.cc:607] Unable to register cuFFT factory: Attempting to register factory for plugin cuFFT when one has already been registered\n",
      "2025-04-19 19:08:59.374479: E external/local_xla/xla/stream_executor/cuda/cuda_blas.cc:1515] Unable to register cuBLAS factory: Attempting to register factory for plugin cuBLAS when one has already been registered\n",
      "2025-04-19 19:08:59.387863: I tensorflow/core/platform/cpu_feature_guard.cc:182] This TensorFlow binary is optimized to use available CPU instructions in performance-critical operations.\n",
      "To enable the following instructions: AVX2 AVX_VNNI FMA, in other operations, rebuild TensorFlow with the appropriate compiler flags.\n",
      "2025-04-19 19:09:00.157285: W tensorflow/compiler/tf2tensorrt/utils/py_utils.cc:38] TF-TRT Warning: Could not find TensorRT\n"
     ]
    }
   ],
   "source": [
    "import os\n",
    "import pandas as pd\n",
    "from sklearn.model_selection import train_test_split\n",
    "from transformers import AutoTokenizer, TFAutoModelForSequenceClassification\n",
    "import tensorflow as tf\n",
    "import numpy as np\n",
    "from sklearn.metrics import classification_report, confusion_matrix, accuracy_score, precision_score, recall_score, f1_score\n",
    "\n",
    "import seaborn as sns\n",
    "import matplotlib.pyplot as plt\n",
    "from sklearn.metrics import confusion_matrix"
   ]
  },
  {
   "cell_type": "code",
   "execution_count": 3,
   "id": "2e7c47ed-e67b-46d7-9b10-f42ad19cfb25",
   "metadata": {},
   "outputs": [],
   "source": [
    "hp = {\n",
    "    'learning_rate' : 5e-5,\n",
    "    'epochs' : 150,\n",
    "    'batch_size' : 128,\n",
    "    'model' : 'xlm-roberta-base',\n",
    "    'exp_desc' : 'default_run'\n",
    "}\n",
    "randnum = 45#42\n",
    "MAX_LENGTH = 150\n",
    "BATCH_SIZE = 128\n",
    "\n",
    "run_name = f\"{hp['model']}__lr{hp['learning_rate']}_ep{hp['epochs']}_bs{hp['batch_size']}\"\n",
    "# checkpoint_filepath = f\"./checkpoints/{run_name}.h5\"\n",
    "checkpoint_filepath = f\"./checkpoints/XLM-RoBERTa__lr5e-05_ep150_bs128.h5\""
   ]
  },
  {
   "cell_type": "code",
   "execution_count": 4,
   "id": "15587987-633e-4849-9fac-90e2b88b2ead",
   "metadata": {},
   "outputs": [],
   "source": [
    "# Model Names: \n",
    "# 'bert-base-uncased' (bert)\n",
    "# 'bert-base-multilingual-cased' (mBERT)\n",
    "# 'xlm-roberta-base' or \"distilroberta-base\" (XLM-RoBERTa, Distil Roberta)\n",
    "# \"google-bert/bert-base-cased\" (mobileBert)\n",
    "\n",
    "MODEL_NAME = 'xlm-roberta-base'"
   ]
  },
  {
   "cell_type": "code",
   "execution_count": 5,
   "id": "793bbeef-0efd-4364-9500-ef99f34033f1",
   "metadata": {},
   "outputs": [],
   "source": [
    "tokenizer = AutoTokenizer.from_pretrained(MODEL_NAME)"
   ]
  },
  {
   "cell_type": "code",
   "execution_count": 6,
   "id": "f8e61e3d-d1a5-401b-a786-64b5c3d79c12",
   "metadata": {},
   "outputs": [
    {
     "name": "stderr",
     "output_type": "stream",
     "text": [
      "2025-04-19 19:09:03.426986: I external/local_xla/xla/stream_executor/cuda/cuda_executor.cc:887] could not open file to read NUMA node: /sys/bus/pci/devices/0000:01:00.0/numa_node\n",
      "Your kernel may have been built without NUMA support.\n",
      "2025-04-19 19:09:03.486461: I external/local_xla/xla/stream_executor/cuda/cuda_executor.cc:887] could not open file to read NUMA node: /sys/bus/pci/devices/0000:01:00.0/numa_node\n",
      "Your kernel may have been built without NUMA support.\n",
      "2025-04-19 19:09:03.486527: I external/local_xla/xla/stream_executor/cuda/cuda_executor.cc:887] could not open file to read NUMA node: /sys/bus/pci/devices/0000:01:00.0/numa_node\n",
      "Your kernel may have been built without NUMA support.\n",
      "2025-04-19 19:09:03.491817: I external/local_xla/xla/stream_executor/cuda/cuda_executor.cc:887] could not open file to read NUMA node: /sys/bus/pci/devices/0000:01:00.0/numa_node\n",
      "Your kernel may have been built without NUMA support.\n",
      "2025-04-19 19:09:03.491890: I external/local_xla/xla/stream_executor/cuda/cuda_executor.cc:887] could not open file to read NUMA node: /sys/bus/pci/devices/0000:01:00.0/numa_node\n",
      "Your kernel may have been built without NUMA support.\n",
      "2025-04-19 19:09:03.491910: I external/local_xla/xla/stream_executor/cuda/cuda_executor.cc:887] could not open file to read NUMA node: /sys/bus/pci/devices/0000:01:00.0/numa_node\n",
      "Your kernel may have been built without NUMA support.\n",
      "2025-04-19 19:09:03.657199: I external/local_xla/xla/stream_executor/cuda/cuda_executor.cc:887] could not open file to read NUMA node: /sys/bus/pci/devices/0000:01:00.0/numa_node\n",
      "Your kernel may have been built without NUMA support.\n",
      "2025-04-19 19:09:03.657291: I external/local_xla/xla/stream_executor/cuda/cuda_executor.cc:887] could not open file to read NUMA node: /sys/bus/pci/devices/0000:01:00.0/numa_node\n",
      "Your kernel may have been built without NUMA support.\n",
      "2025-04-19 19:09:03.657298: I tensorflow/core/common_runtime/gpu/gpu_device.cc:2022] Could not identify NUMA node of platform GPU id 0, defaulting to 0.  Your kernel may not have been built with NUMA support.\n",
      "2025-04-19 19:09:03.657313: I tensorflow/core/common_runtime/gpu/gpu_process_state.cc:236] Using CUDA malloc Async allocator for GPU: 0\n",
      "2025-04-19 19:09:03.657619: I external/local_xla/xla/stream_executor/cuda/cuda_executor.cc:887] could not open file to read NUMA node: /sys/bus/pci/devices/0000:01:00.0/numa_node\n",
      "Your kernel may have been built without NUMA support.\n",
      "2025-04-19 19:09:03.657668: I tensorflow/core/common_runtime/gpu/gpu_device.cc:1929] Created device /job:localhost/replica:0/task:0/device:GPU:0 with 1753 MB memory:  -> device: 0, name: NVIDIA GeForce RTX 3050 Ti Laptop GPU, pci bus id: 0000:01:00.0, compute capability: 8.6\n",
      "All PyTorch model weights were used when initializing TFXLMRobertaForSequenceClassification.\n",
      "\n",
      "Some weights or buffers of the TF 2.0 model TFXLMRobertaForSequenceClassification were not initialized from the PyTorch model and are newly initialized: ['classifier.dense.weight', 'classifier.dense.bias', 'classifier.out_proj.weight', 'classifier.out_proj.bias']\n",
      "You should probably TRAIN this model on a down-stream task to be able to use it for predictions and inference.\n"
     ]
    }
   ],
   "source": [
    "model = TFAutoModelForSequenceClassification.from_pretrained(\n",
    "    MODEL_NAME,\n",
    "    num_labels=2,\n",
    "    # hidden_dropout_prob=0.3,\n",
    "    # attention_probs_dropout_prob=0.15\n",
    ")"
   ]
  },
  {
   "cell_type": "code",
   "execution_count": 7,
   "id": "70da33c7-f8e0-49a0-9909-b5e1533e7fca",
   "metadata": {},
   "outputs": [],
   "source": [
    "# Load dataset\n",
    "def load_data(file_path):\n",
    "    df = pd.read_csv(file_path)\n",
    "    df = df[['text', 'label']].dropna()\n",
    "    df['label'] = df['label'].astype(int)\n",
    "    return df"
   ]
  },
  {
   "cell_type": "code",
   "execution_count": 8,
   "id": "37e1f666-233a-4baa-a553-65129bef44b3",
   "metadata": {},
   "outputs": [],
   "source": [
    "# Tokenization function\n",
    "def tokenize_data(texts, tokenizer):\n",
    "    return tokenizer.batch_encode_plus(\n",
    "        texts,\n",
    "        max_length=MAX_LENGTH,\n",
    "        padding='max_length',\n",
    "        truncation=True,\n",
    "        return_tensors='tf'\n",
    "    )"
   ]
  },
  {
   "cell_type": "code",
   "execution_count": 9,
   "id": "73cca754-8b17-4cdb-b4b3-68c3aae0fc08",
   "metadata": {},
   "outputs": [],
   "source": [
    "# Prepare datasets\n",
    "def prepare_datasets(train_df, val_df, test_df, tokenizer):\n",
    "    train_encodings = tokenize_data(train_df['text'].tolist(), tokenizer)\n",
    "    val_encodings = tokenize_data(val_df['text'].tolist(), tokenizer)\n",
    "    test_encodings = tokenize_data(test_df['text'].tolist(), tokenizer)\n",
    "\n",
    "    train_dataset = tf.data.Dataset.from_tensor_slices((\n",
    "        {\n",
    "            'input_ids': train_encodings['input_ids'],\n",
    "            'attention_mask': train_encodings['attention_mask']\n",
    "        },\n",
    "        train_df['label'].values\n",
    "    )).shuffle(1000).batch(BATCH_SIZE).prefetch(tf.data.AUTOTUNE)\n",
    "\n",
    "    val_dataset = tf.data.Dataset.from_tensor_slices((\n",
    "        {\n",
    "            'input_ids': val_encodings['input_ids'],\n",
    "            'attention_mask': val_encodings['attention_mask']\n",
    "        },\n",
    "        val_df['label'].values\n",
    "    )).batch(BATCH_SIZE).prefetch(tf.data.AUTOTUNE)\n",
    "\n",
    "    test_dataset = tf.data.Dataset.from_tensor_slices((\n",
    "        {\n",
    "            'input_ids': test_encodings['input_ids'],\n",
    "            'attention_mask': test_encodings['attention_mask']\n",
    "        },\n",
    "        test_df['label'].values\n",
    "    )).batch(BATCH_SIZE).prefetch(tf.data.AUTOTUNE)\n",
    "\n",
    "    return train_dataset, val_dataset, test_dataset"
   ]
  },
  {
   "cell_type": "code",
   "execution_count": 10,
   "id": "e55febd2-2ba5-462f-9c19-af894460527a",
   "metadata": {},
   "outputs": [],
   "source": [
    "df = load_data('dataset/finaldataset_6k_shuffled_v2.csv')\n",
    "train_df, test_df = train_test_split(df, test_size=0.1, random_state=randnum)\n",
    "train_df, val_df = train_test_split(train_df, test_size=0.2, random_state=randnum)"
   ]
  },
  {
   "cell_type": "code",
   "execution_count": 11,
   "id": "c4d3485a-a1ec-41ce-9033-beffb715fe5d",
   "metadata": {},
   "outputs": [],
   "source": [
    "train_dataset, val_dataset, test_dataset = prepare_datasets(train_df, val_df, test_df, tokenizer)"
   ]
  },
  {
   "cell_type": "code",
   "execution_count": 12,
   "id": "be61e4b8-f70e-4138-ab15-049ede682ffe",
   "metadata": {},
   "outputs": [],
   "source": [
    "train_ds = train_dataset.unbatch().batch(hp[\"batch_size\"])\n",
    "val_ds = val_dataset.unbatch().batch(hp[\"batch_size\"])"
   ]
  },
  {
   "cell_type": "code",
   "execution_count": 13,
   "id": "70da2c70-d78b-4ad0-b387-546196e11430",
   "metadata": {},
   "outputs": [
    {
     "name": "stdout",
     "output_type": "stream",
     "text": [
      "9/9 [==============================] - 25s 1s/step\n"
     ]
    },
    {
     "name": "stderr",
     "output_type": "stream",
     "text": [
      "2025-04-19 19:09:45.468113: I tensorflow/core/framework/local_rendezvous.cc:425] Local rendezvous send item cancelled. Key hash: 2418057887603513978\n",
      "2025-04-19 19:09:45.468191: I tensorflow/core/framework/local_rendezvous.cc:425] Local rendezvous send item cancelled. Key hash: 11852790261413477342\n",
      "2025-04-19 19:09:45.468195: I tensorflow/core/framework/local_rendezvous.cc:425] Local rendezvous send item cancelled. Key hash: 4170294676821708078\n",
      "2025-04-19 19:09:45.468198: I tensorflow/core/framework/local_rendezvous.cc:425] Local rendezvous send item cancelled. Key hash: 6955497252387612236\n"
     ]
    },
    {
     "name": "stdout",
     "output_type": "stream",
     "text": [
      "||-------------------------------------------------------||\n",
      "||--> Run xlm-roberta-base__lr5e-05_ep150_bs128 evaluation metrics output:\n",
      "Accuracy: 0.9486, Precision: 0.9456, Recall: 0.9540, F1-Score: 0.9498\n",
      "||-------------------------------------------------------||\n",
      "Confusion Matrix:\n",
      "[[514  31]\n",
      " [ 26 539]]\n"
     ]
    },
    {
     "data": {
      "image/png": "[encoded data removed]",
      "text/plain": [
       "<Figure size 600x600 with 2 Axes>"
      ]
     },
     "metadata": {},
     "output_type": "display_data"
    },
    {
     "name": "stdout",
     "output_type": "stream",
     "text": [
      "-----\n"
     ]
    }
   ],
   "source": [
    "# Optionally load best checkpoint\n",
    "if os.path.exists(checkpoint_filepath):\n",
    "    model.load_weights(checkpoint_filepath)\n",
    "\n",
    "# Evaluate the model\n",
    "val_preds = model.predict(val_ds).logits\n",
    "y_pred = np.argmax(val_preds, axis=1)\n",
    "y_true = np.concatenate([y for x, y in val_ds], axis=0)\n",
    "\n",
    "acc = accuracy_score(y_true, y_pred)\n",
    "prec = precision_score(y_true, y_pred)\n",
    "rec = recall_score(y_true, y_pred)\n",
    "f1 = f1_score(y_true, y_pred)\n",
    "print(\"||-------------------------------------------------------||\")\n",
    "print(f\"||--> Run {run_name} evaluation metrics output:\")\n",
    "print(f\"Accuracy: {acc:.4f}, Precision: {prec:.4f}, Recall: {rec:.4f}, F1-Score: {f1:.4f}\")\n",
    "print(\"||-------------------------------------------------------||\")\n",
    "\n",
    "# # Log metrics to MLflow\n",
    "# mlflow.log_metrics({\n",
    "#     \"val_accuracy\": acc,\n",
    "#     \"val_precision\": prec,\n",
    "#     \"val_recall\": rec,\n",
    "#     \"val_f1_score\": f1\n",
    "# })\n",
    "\n",
    "# Compute confusion matrix\n",
    "conf_matrix = confusion_matrix(y_true, y_pred)\n",
    "print(\"Confusion Matrix:\")\n",
    "print(conf_matrix)\n",
    "\n",
    "# Plot confusion matrix\n",
    "plt.figure(figsize=(6, 6))\n",
    "sns.heatmap(conf_matrix, annot=True, fmt=\"d\", cmap=\"Blues\", xticklabels=[0, 1], yticklabels=[0, 1])\n",
    "plt.xlabel(\"Predicted Labels\")\n",
    "plt.ylabel(\"True Labels\")\n",
    "plt.title(\"Confusion Matrix\")\n",
    "plt.show()\n",
    "\n",
    "print(\"-----\")\n"
   ]
  },
  {
   "cell_type": "code",
   "execution_count": 14,
   "id": "dc94af03-0274-4afa-8cd9-07825d2f2346",
   "metadata": {},
   "outputs": [],
   "source": [
    "text_samples = val_df['text'].tolist()"
   ]
  },
  {
   "cell_type": "code",
   "execution_count": 15,
   "id": "6fe8371b-572c-4122-9862-79909e61ffc1",
   "metadata": {},
   "outputs": [],
   "source": [
    "# text_samples = [x for x, y in val_ds]\n",
    "\n",
    "import pandas as pd\n",
    "df_results = pd.DataFrame({\n",
    "    \"text\": text_samples,\n",
    "    \"true_label\": y_true,\n",
    "    \"predicted_label\": y_pred\n",
    "})"
   ]
  },
  {
   "cell_type": "code",
   "execution_count": 16,
   "id": "92d93168-ceaf-447e-93b1-8de01df70f90",
   "metadata": {},
   "outputs": [
    {
     "name": "stdout",
     "output_type": "stream",
     "text": [
      "False Positives (Ham misclassified as Scam):\n",
      "71      Want 100% cashback? Download, upgrade in Maya,...\n",
      "73      Click http://welfare888.world download and hav...\n",
      "258     05xxxxxx96, Maging maingat! Huwag mag-click ng...\n",
      "292     Your dream car is within reach when you apply ...\n",
      "303     You have received P200.00 GCash from E Link Bu...\n",
      "327     Sorry, hindi sapat ang iyong points para ma-re...\n",
      "329     Get the most of your device with Google One! T...\n",
      "338     Never miss a payment deadline when you pay you...\n",
      "347     Feel the Holiday spirit MORE with 8% CODA Rewa...\n",
      "374     SMART's Exclusive offer in partnership with Ma...\n",
      "415     Get up to P8888 cashback when you pay later w/...\n",
      "427     Awesome! Here's your FREE 2 GB for 3 days!\\n\\n...\n",
      "465     You have received P200.00 GCash from E Link Bu...\n",
      "485     Win a Toyota Land Cruiser ZX with Smart Holide...\n",
      "518     GCash continues to protect your account. GCash...\n",
      "535     Make every GigaPoint count! Enjoy a Smart App ...\n",
      "551     Smart brings you Hope on the Stage! Get a chan...\n",
      "574     2/2 ITO AY ISANG SCAM.I-REPORT SA HTTPS://NTC....\n",
      "655     Don't forget to get a chance to score tickets ...\n",
      "696     Mas sulit ang 9.9 with GGives! Checkout on Tik...\n",
      "714     JUST FOR YOU: Apply for a Citi Rewards Card & ...\n",
      "741     DoH: Makiisa sa Chikiting Ligtas Campaign! Pab...\n",
      "759     LAST DAY TODAY to get a chance to score ticket...\n",
      "790     Great! Here's your 3 GB valid for 3 days!\\n\\nW...\n",
      "845     More Power, more Hope!\\n\\nGet a chance to win ...\n",
      "908     Enjoy 50% OFF at Greyhound w/ your BDO Elite o...\n",
      "912     2/2 o ibang serbisyo. Ito po ay isang scam. I-...\n",
      "927     Flash Sale Alert! GET 3 DAYS of UNLI DATA for ...\n",
      "928     Get a chance to win a Toyota Land Cruiser ZX w...\n",
      "1002    You have received PHP 15.00 of GCash from JI**...\n",
      "1040    Your SPayLater bill of PHP 805.07 due on 05-15...\n",
      "Name: text, dtype: object\n",
      "False Negatives (Scam misclassified as Ham):\n",
      "103    Nakatanggap ang iyong number ng P3380. Sumali ...\n",
      "146    Good day from GCash, \\n \\nAs part of our conti...\n",
      "157    Need instant WiFi on the go? Grab a PLDT Home ...\n",
      "229    Laban, Pilipinas! Support our athletes in the ...\n",
      "264    NO ANNUAL FEE FOR LIFE!!!\\n\\nAre you a Creditc...\n",
      "Name: text, dtype: object\n"
     ]
    }
   ],
   "source": [
    "# Filter quadrants in the confusion matrix\n",
    "true_positives = df_results[(df_results[\"true_label\"] == 1) & (df_results[\"predicted_label\"] == 1)]\n",
    "false_positives = df_results[(df_results[\"true_label\"] == 0) & (df_results[\"predicted_label\"] == 1)]\n",
    "true_negatives = df_results[(df_results[\"true_label\"] == 0) & (df_results[\"predicted_label\"] == 0)]\n",
    "false_negatives = df_results[(df_results[\"true_label\"] == 1) & (df_results[\"predicted_label\"] == 0)]\n",
    "\n",
    "print(\"False Positives (Ham misclassified as Scam):\")\n",
    "print(false_positives[\"text\"])\n",
    "\n",
    "print(\"False Negatives (Scam misclassified as Ham):\")\n",
    "print(false_negatives[\"text\"].head())"
   ]
  },
  {
   "cell_type": "code",
   "execution_count": 19,
   "id": "a2898ebe-ae4e-401e-bf4f-31933ac15674",
   "metadata": {},
   "outputs": [
    {
     "name": "stdout",
     "output_type": "stream",
     "text": [
      "Want 100% cashback? Download, upgrade in Maya, & buy P100 SMART load for yourself now: https://smrt.ph/MayaSignUp\n",
      "\n",
      "T&Cs apply. Users who qualify for the promo will receive their reward within 3 business days. DTI:FTEB-192508 SO2024  \n",
      "----\n",
      "Click http://welfare888.world download and have a chance to get up to 888P for free!\n",
      "----\n",
      "05xxxxxx96, Maging maingat! Huwag mag-click ng mga link. HINDI NA MAGPAPADALA ng advisory na may links ang SSS. Para sa updates, bisitahin ang MYSSSPH FB Page.\n",
      "----\n",
      "Your dream car is within reach when you apply for a UnionBank Auto Loan! To know more about the latest Auto Loan Deals, you may visit the UnionBank website or e-mail us at vehiclefinance@unionbankph.com.\n",
      "----\n",
      "You have received P200.00 GCash from E Link Business Innovation Corporation_Gifted PH FDS w/ MSG - . Your new balance is P221.36 03-08-24 01:52 PM. Ref no. 4015812511987.\n",
      "----\n",
      "Sorry, hindi sapat ang iyong points para ma-redeem ang reward. Para sa iba pang offers at list of partner stores kung saan pwede magamit ang points as cash, i-download ang Globe Rewards app via http://glbe.co/GRewardsApp.\n",
      "----\n",
      "Get the most of your device with Google One! That's additional 100 GB for as low as P89/mo. Subscribe NOW by simply charging to your load!\n",
      "\n",
      "More info: https://smart.com.ph/googleone\n",
      "----\n",
      "Never miss a payment deadline when you pay your Home Credit, Cashalo and other loan payments easily, and on time with Maya. \n",
      "\n",
      "Plus, be one of 50 lucky winners who can get up to PHP5k cashback! Tap to pay bills today http://mayaph.co/22JulyBills\n",
      "----\n",
      "Feel the Holiday spirit MORE with 8% CODA Rewards Points when you purchase using your Smart Load!\n",
      "\n",
      "Load now: https://coda.shop/3BdlCoj DTI206889\n",
      "----\n",
      "SMART's Exclusive offer in partnership with Maya. Get 100% cashback when you download, upgrade in Maya, & buy P100 SMART load for yourself now: https://official.maya.ph/3xMF/SmartSignUp \n",
      "\n",
      "T&Cs apply. Users who qualify for the promo will receive their reward within 3 business days. DTI192508\n",
      "----\n",
      "Get up to P8888 cashback when you pay later w/ GCredit! Earn 1 raffle ticket for every min. spend of P1,500. No advisories? Opt out via our GCash Help Center.\n",
      "----\n",
      "Awesome! Here's your FREE 2 GB for 3 days!\n",
      "\n",
      "Check smrt.ph/GigaLifeApp or dial *123# to score more great deals!\n",
      "----\n",
      "You have received P200.00 GCash from E Link Business Innovation Corporation_Gifted PH FDS w/ MSG - . Your new balance is P250.03 04-16-24 03:54 PM. Ref no. 4016782968987.\n",
      "----\n",
      "Win a Toyota Land Cruiser ZX with Smart Holideals!\n",
      "\n",
      "This season, POWER ALL could lead you to a new Toyota Land Cruiser ZX! Simply load POWER ALL 99 or 149 until January 31, 2025, and earn raffle entries for a chance to drive home this incredible prize!\n",
      "\n",
      "Not yet registered? Text RAFFLE to 5858 NOW!\n",
      "\n",
      "For more info: https://smart.com.ph/holideals\n",
      "T&Cs and Privacy Notice apply.\n",
      "----\n",
      "GCash continues to protect your account. GCash WILL NEVER send any email or sms that contain links. DO NOT CLICK ON ANY LINK! Spotted a scammer? Report to Gigi via the Help Center.\n",
      "----\n",
      "Make every GigaPoint count! Enjoy a Smart App exclusive reward like a P50 OFF Lazada Voucher for just 5 GigaPoints!\n",
      "\n",
      "To claim, click the gift icon in the Smart App on https://smrt.ph/GetSmartApp\n",
      "DTI186082\n",
      "----\n",
      "Smart brings you Hope on the Stage! Get a chance to score tickets to j-hope's concert during the Smart Presale Event on Feb 20, 2025!\n",
      "\n",
      "Visit the Smart App now and check how to get your unique presale access code!\n",
      "\n",
      "For more information, visit https://smart.com.ph/Pages/j-hope Don't have the Smart App yet? Download now: https://smrt.ph/GetSmartApp DTI214498\n",
      "----\n",
      "2/2 ITO AY ISANG SCAM.I-REPORT SA HTTPS://NTC.GOV.PH O ITAWAG SA NTC HOTLINE 1682\n",
      "----\n",
      "Don't forget to get a chance to score tickets to j-hope's concert during the Smart Presale Event on Feb 20, 2025!\n",
      "\n",
      "Simply go to the Smart App now and check how to get a unique presale access code just for you!\n",
      "\n",
      "For more information, visit https://smart.com.ph/Pages/j-hope Don't have the Smart App yet? Download now: https://smrt.ph/GetSmartApp DTI214498\n",
      "----\n",
      "Mas sulit ang 9.9 with GGives! Checkout on TikTok Shop with GGives to get P200 cashback! For first-time GGives users only with P3k min. spend. Promo runs 09/08-09/10. Per DTI No. FTEB-196951.\n",
      "----\n"
     ]
    }
   ],
   "source": [
    "inter = 0\n",
    "while inter < 20 and inter < len(false_negatives[\"text\"]):\n",
    "    print(false_positives[\"text\"].iloc[inter])\n",
    "    print(\"----\")\n",
    "    inter+=1"
   ]
  },
  {
   "cell_type": "code",
   "execution_count": null,
   "id": "370c65da-9f62-4a09-8326-305001d687b2",
   "metadata": {},
   "outputs": [],
   "source": []
  }
 ],
 "metadata": {
  "kernelspec": {
   "display_name": "Python 3 (ipykernel)",
   "language": "python",
   "name": "python3"
  },
  "language_info": {
   "codemirror_mode": {
    "name": "ipython",
    "version": 3
   },
   "file_extension": ".py",
   "mimetype": "text/x-python",
   "name": "python",
   "nbconvert_exporter": "python",
   "pygments_lexer": "ipython3",
   "version": "3.10.16"
  }
 },
 "nbformat": 4,
 "nbformat_minor": 5
}
