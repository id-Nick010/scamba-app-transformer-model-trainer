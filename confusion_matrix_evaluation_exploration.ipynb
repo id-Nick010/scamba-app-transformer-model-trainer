{
 "cells": [
  {
   "cell_type": "code",
   "execution_count": null,
   "id": "d1f1137a-ba36-4837-a783-50a123b5d361",
   "metadata": {},
   "outputs": [],
   "source": [
    "### Testing Model to Unseen Data"
   ]
  },
  {
   "cell_type": "code",
   "execution_count": 1,
   "id": "04d411d8-796d-4c77-9a54-6099f37303fc",
   "metadata": {},
   "outputs": [
    {
     "name": "stderr",
     "output_type": "stream",
     "text": [
      "2025-04-19 16:29:37.534409: I tensorflow/core/util/port.cc:113] oneDNN custom operations are on. You may see slightly different numerical results due to floating-point round-off errors from different computation orders. To turn them off, set the environment variable `TF_ENABLE_ONEDNN_OPTS=0`.\n",
      "2025-04-19 16:29:37.565744: E external/local_xla/xla/stream_executor/cuda/cuda_dnn.cc:9261] Unable to register cuDNN factory: Attempting to register factory for plugin cuDNN when one has already been registered\n",
      "2025-04-19 16:29:37.565781: E external/local_xla/xla/stream_executor/cuda/cuda_fft.cc:607] Unable to register cuFFT factory: Attempting to register factory for plugin cuFFT when one has already been registered\n",
      "2025-04-19 16:29:37.566702: E external/local_xla/xla/stream_executor/cuda/cuda_blas.cc:1515] Unable to register cuBLAS factory: Attempting to register factory for plugin cuBLAS when one has already been registered\n",
      "2025-04-19 16:29:37.572750: I tensorflow/core/platform/cpu_feature_guard.cc:182] This TensorFlow binary is optimized to use available CPU instructions in performance-critical operations.\n",
      "To enable the following instructions: AVX2 AVX_VNNI FMA, in other operations, rebuild TensorFlow with the appropriate compiler flags.\n",
      "2025-04-19 16:29:38.200574: W tensorflow/compiler/tf2tensorrt/utils/py_utils.cc:38] TF-TRT Warning: Could not find TensorRT\n"
     ]
    }
   ],
   "source": [
    "import os\n",
    "import pandas as pd\n",
    "from sklearn.model_selection import train_test_split\n",
    "from transformers import AutoTokenizer, TFAutoModelForSequenceClassification\n",
    "import tensorflow as tf\n",
    "import numpy as np\n",
    "from sklearn.metrics import classification_report, confusion_matrix, accuracy_score, precision_score, recall_score, f1_score\n",
    "\n",
    "import seaborn as sns\n",
    "import matplotlib.pyplot as plt\n",
    "from sklearn.metrics import confusion_matrix"
   ]
  },
  {
   "cell_type": "code",
   "execution_count": 2,
   "id": "2e7c47ed-e67b-46d7-9b10-f42ad19cfb25",
   "metadata": {},
   "outputs": [],
   "source": [
    "hp = {\n",
    "    'learning_rate' : 5e-5,\n",
    "    'epochs' : 150,\n",
    "    'batch_size' : 128,\n",
    "    'model' : 'xlm-roberta-base',\n",
    "    'exp_desc' : 'default_run'\n",
    "}\n",
    "randnum = 45#42\n",
    "MAX_LENGTH = 12\n",
    "BATCH_SIZE = 16\n",
    "\n",
    "run_name = f\"{hp['model']}__lr{hp['learning_rate']}_ep{hp['epochs']}_bs{hp['batch_size']}\"\n",
    "# checkpoint_filepath = f\"./checkpoints/{run_name}.h5\"\n",
    "checkpoint_filepath = f\"./checkpoints/XLM-RoBERTa__lr5e-05_ep150_bs128.h5\""
   ]
  },
  {
   "cell_type": "code",
   "execution_count": 3,
   "id": "15587987-633e-4849-9fac-90e2b88b2ead",
   "metadata": {},
   "outputs": [],
   "source": [
    "# Model Names: \n",
    "# 'bert-base-uncased' (bert)\n",
    "# 'bert-base-multilingual-cased' (mBERT)\n",
    "# 'xlm-roberta-base' or \"distilroberta-base\" (XLM-RoBERTa, Distil Roberta)\n",
    "# \"google-bert/bert-base-cased\" (mobileBert)\n",
    "\n",
    "MODEL_NAME = 'xlm-roberta-base'"
   ]
  },
  {
   "cell_type": "code",
   "execution_count": 4,
   "id": "793bbeef-0efd-4364-9500-ef99f34033f1",
   "metadata": {},
   "outputs": [],
   "source": [
    "tokenizer = AutoTokenizer.from_pretrained(MODEL_NAME)"
   ]
  },
  {
   "cell_type": "code",
   "execution_count": 5,
   "id": "f8e61e3d-d1a5-401b-a786-64b5c3d79c12",
   "metadata": {},
   "outputs": [
    {
     "name": "stderr",
     "output_type": "stream",
     "text": [
      "2025-04-19 16:29:41.045829: I external/local_xla/xla/stream_executor/cuda/cuda_executor.cc:887] could not open file to read NUMA node: /sys/bus/pci/devices/0000:01:00.0/numa_node\n",
      "Your kernel may have been built without NUMA support.\n",
      "2025-04-19 16:29:41.079895: I external/local_xla/xla/stream_executor/cuda/cuda_executor.cc:887] could not open file to read NUMA node: /sys/bus/pci/devices/0000:01:00.0/numa_node\n",
      "Your kernel may have been built without NUMA support.\n",
      "2025-04-19 16:29:41.079959: I external/local_xla/xla/stream_executor/cuda/cuda_executor.cc:887] could not open file to read NUMA node: /sys/bus/pci/devices/0000:01:00.0/numa_node\n",
      "Your kernel may have been built without NUMA support.\n",
      "2025-04-19 16:29:41.084577: I external/local_xla/xla/stream_executor/cuda/cuda_executor.cc:887] could not open file to read NUMA node: /sys/bus/pci/devices/0000:01:00.0/numa_node\n",
      "Your kernel may have been built without NUMA support.\n",
      "2025-04-19 16:29:41.084670: I external/local_xla/xla/stream_executor/cuda/cuda_executor.cc:887] could not open file to read NUMA node: /sys/bus/pci/devices/0000:01:00.0/numa_node\n",
      "Your kernel may have been built without NUMA support.\n",
      "2025-04-19 16:29:41.084692: I external/local_xla/xla/stream_executor/cuda/cuda_executor.cc:887] could not open file to read NUMA node: /sys/bus/pci/devices/0000:01:00.0/numa_node\n",
      "Your kernel may have been built without NUMA support.\n",
      "2025-04-19 16:29:41.325265: I external/local_xla/xla/stream_executor/cuda/cuda_executor.cc:887] could not open file to read NUMA node: /sys/bus/pci/devices/0000:01:00.0/numa_node\n",
      "Your kernel may have been built without NUMA support.\n",
      "2025-04-19 16:29:41.325401: I external/local_xla/xla/stream_executor/cuda/cuda_executor.cc:887] could not open file to read NUMA node: /sys/bus/pci/devices/0000:01:00.0/numa_node\n",
      "Your kernel may have been built without NUMA support.\n",
      "2025-04-19 16:29:41.325410: I tensorflow/core/common_runtime/gpu/gpu_device.cc:2022] Could not identify NUMA node of platform GPU id 0, defaulting to 0.  Your kernel may not have been built with NUMA support.\n",
      "2025-04-19 16:29:41.325427: I tensorflow/core/common_runtime/gpu/gpu_process_state.cc:236] Using CUDA malloc Async allocator for GPU: 0\n",
      "2025-04-19 16:29:41.327681: I external/local_xla/xla/stream_executor/cuda/cuda_executor.cc:887] could not open file to read NUMA node: /sys/bus/pci/devices/0000:01:00.0/numa_node\n",
      "Your kernel may have been built without NUMA support.\n",
      "2025-04-19 16:29:41.327738: I tensorflow/core/common_runtime/gpu/gpu_device.cc:1929] Created device /job:localhost/replica:0/task:0/device:GPU:0 with 1753 MB memory:  -> device: 0, name: NVIDIA GeForce RTX 3050 Ti Laptop GPU, pci bus id: 0000:01:00.0, compute capability: 8.6\n",
      "All PyTorch model weights were used when initializing TFXLMRobertaForSequenceClassification.\n",
      "\n",
      "Some weights or buffers of the TF 2.0 model TFXLMRobertaForSequenceClassification were not initialized from the PyTorch model and are newly initialized: ['classifier.dense.weight', 'classifier.dense.bias', 'classifier.out_proj.weight', 'classifier.out_proj.bias']\n",
      "You should probably TRAIN this model on a down-stream task to be able to use it for predictions and inference.\n"
     ]
    }
   ],
   "source": [
    "model = TFAutoModelForSequenceClassification.from_pretrained(\n",
    "    MODEL_NAME,\n",
    "    num_labels=2,\n",
    "    # hidden_dropout_prob=0.3,\n",
    "    # attention_probs_dropout_prob=0.15\n",
    ")"
   ]
  },
  {
   "cell_type": "code",
   "execution_count": 6,
   "id": "70da33c7-f8e0-49a0-9909-b5e1533e7fca",
   "metadata": {},
   "outputs": [],
   "source": [
    "# Load dataset\n",
    "def load_data(file_path):\n",
    "    df = pd.read_csv(file_path)\n",
    "    df = df[['text', 'label']].dropna()\n",
    "    df['label'] = df['label'].astype(int)\n",
    "    return df"
   ]
  },
  {
   "cell_type": "code",
   "execution_count": 7,
   "id": "37e1f666-233a-4baa-a553-65129bef44b3",
   "metadata": {},
   "outputs": [],
   "source": [
    "# Tokenization function\n",
    "def tokenize_data(texts, tokenizer):\n",
    "    return tokenizer.batch_encode_plus(\n",
    "        texts,\n",
    "        max_length=MAX_LENGTH,\n",
    "        padding='max_length',\n",
    "        truncation=True,\n",
    "        return_tensors='tf'\n",
    "    )"
   ]
  },
  {
   "cell_type": "code",
   "execution_count": 8,
   "id": "73cca754-8b17-4cdb-b4b3-68c3aae0fc08",
   "metadata": {},
   "outputs": [],
   "source": [
    "# Prepare datasets\n",
    "def prepare_datasets(train_df, val_df, test_df, tokenizer):\n",
    "    train_encodings = tokenize_data(train_df['text'].tolist(), tokenizer)\n",
    "    val_encodings = tokenize_data(val_df['text'].tolist(), tokenizer)\n",
    "    test_encodings = tokenize_data(test_df['text'].tolist(), tokenizer)\n",
    "\n",
    "    train_dataset = tf.data.Dataset.from_tensor_slices((\n",
    "        {\n",
    "            'input_ids': train_encodings['input_ids'],\n",
    "            'attention_mask': train_encodings['attention_mask']\n",
    "        },\n",
    "        train_df['label'].values\n",
    "    )).shuffle(1000).batch(BATCH_SIZE).prefetch(tf.data.AUTOTUNE)\n",
    "\n",
    "    val_dataset = tf.data.Dataset.from_tensor_slices((\n",
    "        {\n",
    "            'input_ids': val_encodings['input_ids'],\n",
    "            'attention_mask': val_encodings['attention_mask']\n",
    "        },\n",
    "        val_df['label'].values\n",
    "    )).batch(BATCH_SIZE).prefetch(tf.data.AUTOTUNE)\n",
    "\n",
    "    test_dataset = tf.data.Dataset.from_tensor_slices((\n",
    "        {\n",
    "            'input_ids': test_encodings['input_ids'],\n",
    "            'attention_mask': test_encodings['attention_mask']\n",
    "        },\n",
    "        test_df['label'].values\n",
    "    )).batch(BATCH_SIZE).prefetch(tf.data.AUTOTUNE)\n",
    "\n",
    "    return train_dataset, val_dataset, test_dataset"
   ]
  },
  {
   "cell_type": "code",
   "execution_count": 9,
   "id": "e55febd2-2ba5-462f-9c19-af894460527a",
   "metadata": {},
   "outputs": [],
   "source": [
    "df = load_data('dataset/finaldataset_6k_shuffled_v2.csv')\n",
    "train_df, test_df = train_test_split(df, test_size=0.1, random_state=randnum)\n",
    "train_df, val_df = train_test_split(train_df, test_size=0.2, random_state=randnum)"
   ]
  },
  {
   "cell_type": "code",
   "execution_count": 10,
   "id": "c4d3485a-a1ec-41ce-9033-beffb715fe5d",
   "metadata": {},
   "outputs": [],
   "source": [
    "train_dataset, val_dataset, test_dataset = prepare_datasets(train_df, val_df, test_df, tokenizer)"
   ]
  },
  {
   "cell_type": "code",
   "execution_count": 11,
   "id": "be61e4b8-f70e-4138-ab15-049ede682ffe",
   "metadata": {},
   "outputs": [],
   "source": [
    "train_ds = train_dataset.unbatch().batch(hp[\"batch_size\"])\n",
    "val_ds = val_dataset.unbatch().batch(hp[\"batch_size\"])"
   ]
  },
  {
   "cell_type": "code",
   "execution_count": 12,
   "id": "70da2c70-d78b-4ad0-b387-546196e11430",
   "metadata": {
    "collapsed": true,
    "jupyter": {
     "outputs_hidden": true
    },
    "scrolled": true
   },
   "outputs": [
    {
     "name": "stdout",
     "output_type": "stream",
     "text": [
      "      9/Unknown - 15s 139ms/step"
     ]
    },
    {
     "name": "stderr",
     "output_type": "stream",
     "text": [
      "2025-04-19 16:30:02.941128: I tensorflow/core/framework/local_rendezvous.cc:425] Local rendezvous send item cancelled. Key hash: 13432226046203114136\n",
      "2025-04-19 16:30:02.941206: I tensorflow/core/framework/local_rendezvous.cc:425] Local rendezvous send item cancelled. Key hash: 4850960011182099222\n",
      "2025-04-19 16:30:02.941211: I tensorflow/core/framework/local_rendezvous.cc:425] Local rendezvous send item cancelled. Key hash: 11653379950426999989\n",
      "2025-04-19 16:30:02.941222: I tensorflow/core/framework/local_rendezvous.cc:421] Local rendezvous recv item cancelled. Key hash: 8134827607863873161\n"
     ]
    },
    {
     "name": "stdout",
     "output_type": "stream",
     "text": [
      "9/9 [==============================] - 15s 192ms/step\n",
      "||-------------------------------------------------------||\n",
      "||--> Run xlm-roberta-base__lr5e-05_ep150_bs128 evaluation metrics output:\n",
      "Accuracy: 0.8360, Precision: 0.8124, Recall: 0.8814, F1-Score: 0.8455\n",
      "||-------------------------------------------------------||\n",
      "Confusion Matrix:\n",
      "[[430 115]\n",
      " [ 67 498]]\n"
     ]
    },
    {
     "name": "stderr",
     "output_type": "stream",
     "text": [
      "2025-04-19 16:30:02.941224: I tensorflow/core/framework/local_rendezvous.cc:425] Local rendezvous send item cancelled. Key hash: 10277625860263155537\n"
     ]
    },
    {
     "data": {
      "image/png": "[encoded data removed]",
      "text/plain": [
       "<Figure size 600x600 with 2 Axes>"
      ]
     },
     "metadata": {},
     "output_type": "display_data"
    },
    {
     "name": "stdout",
     "output_type": "stream",
     "text": [
      "-----\n"
     ]
    }
   ],
   "source": [
    "# Optionally load best checkpoint\n",
    "if os.path.exists(checkpoint_filepath):\n",
    "    model.load_weights(checkpoint_filepath)\n",
    "\n",
    "# Evaluate the model\n",
    "val_preds = model.predict(val_ds).logits\n",
    "y_pred = np.argmax(val_preds, axis=1)\n",
    "y_true = np.concatenate([y for x, y in val_ds], axis=0)\n",
    "\n",
    "acc = accuracy_score(y_true, y_pred)\n",
    "prec = precision_score(y_true, y_pred)\n",
    "rec = recall_score(y_true, y_pred)\n",
    "f1 = f1_score(y_true, y_pred)\n",
    "print(\"||-------------------------------------------------------||\")\n",
    "print(f\"||--> Run {run_name} evaluation metrics output:\")\n",
    "print(f\"Accuracy: {acc:.4f}, Precision: {prec:.4f}, Recall: {rec:.4f}, F1-Score: {f1:.4f}\")\n",
    "print(\"||-------------------------------------------------------||\")\n",
    "\n",
    "# # Log metrics to MLflow\n",
    "# mlflow.log_metrics({\n",
    "#     \"val_accuracy\": acc,\n",
    "#     \"val_precision\": prec,\n",
    "#     \"val_recall\": rec,\n",
    "#     \"val_f1_score\": f1\n",
    "# })\n",
    "\n",
    "# Compute confusion matrix\n",
    "conf_matrix = confusion_matrix(y_true, y_pred)\n",
    "print(\"Confusion Matrix:\")\n",
    "print(conf_matrix)\n",
    "\n",
    "# Plot confusion matrix\n",
    "plt.figure(figsize=(6, 6))\n",
    "sns.heatmap(conf_matrix, annot=True, fmt=\"d\", cmap=\"Blues\", xticklabels=[0, 1], yticklabels=[0, 1])\n",
    "plt.xlabel(\"Predicted Labels\")\n",
    "plt.ylabel(\"True Labels\")\n",
    "plt.title(\"Confusion Matrix\")\n",
    "plt.show()\n",
    "\n",
    "print(\"-----\")\n"
   ]
  },
  {
   "cell_type": "code",
   "execution_count": 13,
   "id": "dc94af03-0274-4afa-8cd9-07825d2f2346",
   "metadata": {},
   "outputs": [],
   "source": [
    "text_samples = val_df['text'].tolist()"
   ]
  },
  {
   "cell_type": "code",
   "execution_count": 14,
   "id": "6fe8371b-572c-4122-9862-79909e61ffc1",
   "metadata": {},
   "outputs": [],
   "source": [
    "# text_samples = [x for x, y in val_ds]\n",
    "\n",
    "import pandas as pd\n",
    "df_results = pd.DataFrame({\n",
    "    \"text\": text_samples,\n",
    "    \"true_label\": y_true,\n",
    "    \"predicted_label\": y_pred\n",
    "})"
   ]
  },
  {
   "cell_type": "code",
   "execution_count": 15,
   "id": "92d93168-ceaf-447e-93b1-8de01df70f90",
   "metadata": {},
   "outputs": [
    {
     "name": "stdout",
     "output_type": "stream",
     "text": [
      "False Positives (Ham misclassified as Scam):\n",
      "3       Make Christmas shopping more affordable with G...\n",
      "30      Your OTP for online transaction is 240105, exp...\n",
      "44      Get CASH up to P873,000 w/ your BDO Credit Car...\n",
      "64      Kaya nang mag-load without cash by using the G...\n",
      "71      Want 100% cashback? Download, upgrade in Maya,...\n",
      "                              ...                        \n",
      "1054    Spotify will charge 75.00PHP against airtime i...\n",
      "1057    Nice! You received a P20 voucher from Maya. Us...\n",
      "1079    Hurry! You can still claim your PRE-QUALIFIED ...\n",
      "1100    Your payment of P167.92 to Steam has been succ...\n",
      "1102    Happy 10.10 Money Day! Dive into the ultimate ...\n",
      "Name: text, Length: 115, dtype: object\n",
      "False Negatives (Scam misclassified as Ham):\n",
      "13    Kumita habang nanonood ng YouTube, kumita ng 5...\n",
      "24    PHLPOST Mail that requires your signature has ...\n",
      "32    Hi, Dad! Nawala wallet ko. Padala ₱3K sa GCash...\n",
      "41    Maswerteng araw, mag-log in para\\n\\nmakatangga...\n",
      "69    Magtaya nang may saya! Libreng P288 at 100% de...\n",
      "Name: text, dtype: object\n"
     ]
    }
   ],
   "source": [
    "# Filter quadrants in the confusion matrix\n",
    "true_positives = df_results[(df_results[\"true_label\"] == 1) & (df_results[\"predicted_label\"] == 1)]\n",
    "false_positives = df_results[(df_results[\"true_label\"] == 0) & (df_results[\"predicted_label\"] == 1)]\n",
    "true_negatives = df_results[(df_results[\"true_label\"] == 0) & (df_results[\"predicted_label\"] == 0)]\n",
    "false_negatives = df_results[(df_results[\"true_label\"] == 1) & (df_results[\"predicted_label\"] == 0)]\n",
    "\n",
    "print(\"False Positives (Ham misclassified as Scam):\")\n",
    "print(false_positives[\"text\"])\n",
    "\n",
    "print(\"False Negatives (Scam misclassified as Ham):\")\n",
    "print(false_negatives[\"text\"].head())"
   ]
  },
  {
   "cell_type": "code",
   "execution_count": 16,
   "id": "a2898ebe-ae4e-401e-bf4f-31933ac15674",
   "metadata": {},
   "outputs": [
    {
     "name": "stdout",
     "output_type": "stream",
     "text": [
      "Kumita habang nanonood ng YouTube, kumita ng 500P bawat araw, makipag-ugnayan sa tutor para makatanggap ng 138P. zmmz.bid\n",
      "----\n",
      "PHLPOST Mail that requires your signature has been returned to your local post office, to arrange re-delivery please visit phl-gov.tw\n",
      "----\n",
      "Hi, Dad! Nawala wallet ko. Padala ₱3K sa GCash 09234534234. Salamat!\n",
      "----\n",
      "Maswerteng araw, mag-log in para\n",
      "\n",
      "makatanggap ng libreng\n",
      "\n",
      "P33-P3333:https://68899.lv\n",
      "----\n",
      "Magtaya nang may saya! Libreng P288 at 100% deposit bonus! Sumali na sa: clickhere.cx/pNTVzioGpzxS2BV at magsimula ng pagwawagi!\n",
      "----\n",
      "Hi, bunso! Naubos pera ko. Padala ₱1K sa GCash 09453425678. Salamat!\n",
      "----\n",
      "Say farewell to GCash load issues, it's GoJackpot time this weekend! Enjoy Free 777 & 105% Deposit, and win big slot prizes with your luck now at Gojpluck2.com\n",
      "----\n",
      "SOLAR 3 WAY LIGHTS SOBRA GANDA AT FORMAL ILAGAY SA WALL\n",
      "\n",
      "CLICK HERE FOR PICTURE AND PRICE --->\n",
      "\n",
      "https://s.lazada.com.ph/s.4ZgRn\n",
      "\n",
      "BUY 1 TAKE 1 TODAY ONLY!!!\n",
      "----\n",
      "Long time no see, may good news ako sayo. mag-recharge ng P100 at makakuha ng P777 nang libre>>> yystf5ree.nl\n",
      "----\n",
      "mag deposit ka ng 100 at may FREE 168 ka:sv33.tv\n",
      "----\n",
      "Lakers vs Nuggets tip-off the season on NBA League Pass! Stream all the games LIVE for only P425/mo by charging to your postpaid bill smrt.ph/NBALPPosSMS\n",
      "----\n",
      "Good day from GCash, \n",
      " \n",
      "As part of our continuous effort to bring you the best eWallet services, we request you to verify your account information to continually access. Failure to do so will result in an account suspension. \n",
      " \n",
      "Verify here: centi.ai/GCashContactSupport\n",
      "----\n",
      "Thank you for sending us your confirmation. Your Postpaid SIM is now registered!\n",
      "\n",
      "To know more, visit: smrt.ph/simregfaqs Thank you!\n",
      "----\n",
      "Need instant WiFi on the go? Grab a PLDT Home WiFi with LTE Advanced. It's light, compact, and easy to top-up. Perfect for travelers!\n",
      "\n",
      "Only P995 for a device with SIM + 15 days UNLI data + up to 2X faster LTE vs. other Smart's Home WiFi devices. Buy now at pldthome.info/jph1.\n",
      "\n",
      "DTI192419S24.\n",
      "----\n",
      "You have p100 free points that are about to expire, please don't miss it, click to log in\n",
      "\n",
      "https://jiligame.cyou/1jil7\n",
      "----\n",
      "Felix, Hey, want to have fun? Let's play games on BETFIL together. Claim PHP250 extra bonus. Click here betfildito1.com\n",
      "----\n",
      "Ready for pickup na ang Lazada order mo! You won a FREE mystery box worth 10,000 PHP! Claim now! lazada-reward.ml\n",
      "----\n",
      "Yvette, Complete daily tasks to get 1000 free! Unlock VIP plan to get even more daily bonuses! unibetpromo.com\n",
      "----\n",
      "JOB ALERT! PART TIME DATA ENTRY, P5K/DAY apply now dito datajob-applyph.ml\n",
      "----\n",
      "May P6140 na natanggap ang number na ito! Ito ay valid lamang within 8 hrs! Maglagay ng P50 upang maclaim sa aming 24/7 CS: mwjt.uk\n",
      "----\n"
     ]
    }
   ],
   "source": [
    "inter = 0\n",
    "while inter < 20:\n",
    "    print(false_negatives[\"text\"].iloc[inter])\n",
    "    print(\"----\")\n",
    "    inter+=1"
   ]
  }
 ],
 "metadata": {
  "kernelspec": {
   "display_name": "Python 3 (ipykernel)",
   "language": "python",
   "name": "python3"
  },
  "language_info": {
   "codemirror_mode": {
    "name": "ipython",
    "version": 3
   },
   "file_extension": ".py",
   "mimetype": "text/x-python",
   "name": "python",
   "nbconvert_exporter": "python",
   "pygments_lexer": "ipython3",
   "version": "3.10.16"
  }
 },
 "nbformat": 4,
 "nbformat_minor": 5
}
